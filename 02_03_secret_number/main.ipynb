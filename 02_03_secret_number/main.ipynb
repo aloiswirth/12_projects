{
 "cells": [
  {
   "cell_type": "code",
   "execution_count": 11,
   "metadata": {},
   "outputs": [
    {
     "name": "stdout",
     "output_type": "stream",
     "text": [
      "to high. try again\n",
      "to low. try again\n",
      "to low. try again\n",
      "to low. try again\n",
      "to low. try again\n",
      "to low. try again\n",
      "you did it!! The number was 8\n"
     ]
    }
   ],
   "source": [
    "import random\n",
    "\n",
    "def guess(x):\n",
    "    random_number = random.randint(1, x)\n",
    "    guess = 0\n",
    "    while (guess != random_number):\n",
    "        guess = int(input(\"new number\"))\n",
    "        if guess < random_number:\n",
    "            print(\"to low. try again\")\n",
    "        elif guess > random_number:\n",
    "            print(\"to high. try again\")\n",
    "    \n",
    "    \n",
    "    print(f\"you did it!! The number was {random_number}\")       \n",
    "\n",
    "\n",
    "guess(10)"
   ]
  }
 ],
 "metadata": {
  "interpreter": {
   "hash": "f9f85f796d01129d0dd105a088854619f454435301f6ffec2fea96ecbd9be4ac"
  },
  "kernelspec": {
   "display_name": "Python 3.9.5 64-bit",
   "language": "python",
   "name": "python3"
  },
  "language_info": {
   "codemirror_mode": {
    "name": "ipython",
    "version": 3
   },
   "file_extension": ".py",
   "mimetype": "text/x-python",
   "name": "python",
   "nbconvert_exporter": "python",
   "pygments_lexer": "ipython3",
   "version": "3.9.5"
  },
  "orig_nbformat": 4
 },
 "nbformat": 4,
 "nbformat_minor": 2
}
